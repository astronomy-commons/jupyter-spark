{
 "cells": [
  {
   "cell_type": "code",
   "execution_count": 1,
   "metadata": {},
   "outputs": [],
   "source": [
    "import pyspark\n",
    "from pyspark import *"
   ]
  },
  {
   "cell_type": "code",
   "execution_count": 2,
   "metadata": {},
   "outputs": [
    {
     "name": "stdout",
     "output_type": "stream",
     "text": [
      "::: System Paths :::\n",
      "/Users/shreyashkawalkar\n",
      "/private/var/folders/1k/6jrfl1sn0cj7lvbfhq74pbz80000gn/T/spark-3ffe0cd2-d9d0-49d6-86e7-3d8eb84bd828/userFiles-b4e2c0b4-7b22-4f8e-9d4c-8bb7542d8fc4\n",
      "/Users/shreyashkawalkar/JupyterSparkExt\n",
      "/Users/shreyashkawalkar/spark-3.0.0-preview2-bin-hadoop3.2/python/lib/py4j-0.10.8.1-src.zip\n",
      "/Users/shreyashkawalkar/spark-3.0.0-preview2-bin-hadoop3.2/python\n",
      "/Users/shreyashkawalkar/JupyterSparkExt\n",
      "/Users/shreyashkawalkar/anaconda3/lib/python37.zip\n",
      "/Users/shreyashkawalkar/anaconda3/lib/python3.7\n",
      "/Users/shreyashkawalkar/anaconda3/lib/python3.7/lib-dynload\n",
      "\n",
      "/Users/shreyashkawalkar/.local/lib/python3.7/site-packages\n",
      "/Users/shreyashkawalkar/anaconda3/lib/python3.7/site-packages\n",
      "/Users/shreyashkawalkar/anaconda3/lib/python3.7/site-packages/aeosa\n",
      "/Users/shreyashkawalkar/anaconda3/lib/python3.7/site-packages/IPython/extensions\n",
      "/Users/shreyashkawalkar/.ipython\n"
     ]
    }
   ],
   "source": [
    "# THE BELOW PATH SETTING IS FOR INFO AND ARE NOT NECESSARY, THEY ARE USUALLY SET BY DEFAULT \n",
    "import sys\n",
    "paths_list = [\n",
    "            \"/Users/shreyashkawalkar\",\n",
    "            \"/Users/shreyashkawalkar/spark-3.0.0-preview2-bin-hadoop3.2/python/lib/py4j-0.10.8.1-src.zip\",\n",
    "            \"/Users/shreyashkawalkar/spark-3.0.0-preview2-bin-hadoop3.2/python\",\n",
    "            \n",
    "            \"/Users/shreyashkawalkar/anaconda3/lib/python37.zip\",\n",
    "            \"/Users/shreyashkawalkar/anaconda3/lib/python3.7\",\n",
    "            \"/Users/shreyashkawalkar/anaconda3/lib/python3.7/lib-dynload\",\n",
    "\n",
    "            \"/Users/shreyashkawalkar/.local/lib/python3.7/site-packages\",\n",
    "            \"/Users/shreyashkawalkar/anaconda3/lib/python3.7/site-packages\",\n",
    "            \"/Users/shreyashkawalkar/anaconda3/lib/python3.7/site-packages/aeosa\",\n",
    "            \"/Users/shreyashkawalkar/anaconda3/lib/python3.7/site-packages/IPython/extensions\",\n",
    "            \"/Users/shreyashkawalkar/.ipython\"\n",
    "            ]\n",
    "for path in paths_list:\n",
    "    if path not in sys.path:\n",
    "        sys.path.insert(0,path)\n",
    "print(\"::: System Paths :::\")  \n",
    "_=[print(path) for path in sys.path]"
   ]
  },
  {
   "cell_type": "code",
   "execution_count": 3,
   "metadata": {},
   "outputs": [],
   "source": [
    "try:\n",
    "    sc.stop()\n",
    "except:\n",
    "    pass\n",
    "SPARK_MASTER_NAME = \"local[2]\"\n",
    "SPARK_APPLICATION_NAME = \"c2_app2\"\n",
    "conf = SparkConf()\n",
    "conf.setMaster(SPARK_MASTER_NAME).setAppName(SPARK_APPLICATION_NAME)\n",
    "sc = SparkContext(conf=conf).getOrCreate()"
   ]
  },
  {
   "cell_type": "code",
   "execution_count": 4,
   "metadata": {},
   "outputs": [
    {
     "data": {
      "text/html": [
       "\n",
       "        <div>\n",
       "            <p><b>SparkContext</b></p>\n",
       "\n",
       "            <p><a href=\"http://0.0.0.0:4040\">Spark UI</a></p>\n",
       "\n",
       "            <dl>\n",
       "              <dt>Version</dt>\n",
       "                <dd><code>v3.0.0-preview2</code></dd>\n",
       "              <dt>Master</dt>\n",
       "                <dd><code>local[2]</code></dd>\n",
       "              <dt>AppName</dt>\n",
       "                <dd><code>c2_app2</code></dd>\n",
       "            </dl>\n",
       "        </div>\n",
       "        "
      ],
      "text/plain": [
       "<SparkContext master=local[2] appName=c2_app2>"
      ]
     },
     "execution_count": 4,
     "metadata": {},
     "output_type": "execute_result"
    }
   ],
   "source": [
    "sc"
   ]
  },
  {
   "cell_type": "code",
   "execution_count": 19,
   "metadata": {},
   "outputs": [
    {
     "ename": "NameError",
     "evalue": "name 'sc' is not defined",
     "output_type": "error",
     "traceback": [
      "\u001b[0;31m---------------------------------------------------------------------------\u001b[0m",
      "\u001b[0;31mNameError\u001b[0m                                 Traceback (most recent call last)",
      "\u001b[0;32m<ipython-input-19-0455e593c731>\u001b[0m in \u001b[0;36m<module>\u001b[0;34m\u001b[0m\n\u001b[0;32m----> 1\u001b[0;31m \u001b[0msc\u001b[0m\u001b[0;34m.\u001b[0m\u001b[0m_conf\u001b[0m\u001b[0;34m.\u001b[0m\u001b[0mgetAll\u001b[0m\u001b[0;34m(\u001b[0m\u001b[0;34m)\u001b[0m\u001b[0;34m\u001b[0m\u001b[0;34m\u001b[0m\u001b[0m\n\u001b[0m",
      "\u001b[0;31mNameError\u001b[0m: name 'sc' is not defined"
     ]
    }
   ],
   "source": [
    "sc._conf.getAll()"
   ]
  },
  {
   "cell_type": "code",
   "execution_count": 5,
   "metadata": {},
   "outputs": [
    {
     "data": {
      "text/plain": [
       "'http://0.0.0.0:4040'"
      ]
     },
     "execution_count": 5,
     "metadata": {},
     "output_type": "execute_result"
    }
   ],
   "source": [
    "sc._jsc.sc().uiWebUrl().get()"
   ]
  },
  {
   "cell_type": "code",
   "execution_count": 10,
   "metadata": {},
   "outputs": [
    {
     "name": "stdout",
     "output_type": "stream",
     "text": [
      "Pi is roughly 4.000000\n"
     ]
    }
   ],
   "source": [
    "import random\n",
    "def inside(p):\n",
    "    x, y = random.random(), random.random()\n",
    "    return x*x + y*y < 1\n",
    "NUM_SAMPLES=1\n",
    "count = sc.parallelize(range(0, NUM_SAMPLES)) \\\n",
    "             .filter(inside).count()\n",
    "print(\"Pi is roughly %f\" % (4.0 * count / NUM_SAMPLES))"
   ]
  },
  {
   "cell_type": "code",
   "execution_count": null,
   "metadata": {},
   "outputs": [],
   "source": [
    "sc.stop()"
   ]
  }
 ],
 "metadata": {
  "kernelspec": {
   "display_name": "Python 3",
   "language": "python",
   "name": "python3"
  },
  "language_info": {
   "codemirror_mode": {
    "name": "ipython",
    "version": 3
   },
   "file_extension": ".py",
   "mimetype": "text/x-python",
   "name": "python",
   "nbconvert_exporter": "python",
   "pygments_lexer": "ipython3",
   "version": "3.7.3"
  }
 },
 "nbformat": 4,
 "nbformat_minor": 4
}
