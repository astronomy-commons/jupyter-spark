{
 "cells": [
  {
   "cell_type": "code",
   "execution_count": 8,
   "metadata": {},
   "outputs": [
    {
     "name": "stdout",
     "output_type": "stream",
     "text": [
      "Approximation 3.1424608\n",
      "Error 0.000868146410206716\n"
     ]
    }
   ],
   "source": [
    "import functools\n",
    "import math\n",
    "import pyspark\n",
    "import random\n",
    "\n",
    "sc = pyspark.SparkContext.getOrCreate()\n",
    "\n",
    "# more samples leads to better approximation\n",
    "NUM_SAMPLES = 10000000\n",
    "\n",
    "def sample(p):\n",
    "    x, y = random.random(), random.random()\n",
    "    # get random points inside circle\n",
    "    # the ratio between area circle and the total area = pi\n",
    "    return 1 if x*x + y*y < 1 else 0\n",
    "\n",
    "rdd1 = sc.parallelize(range(0, NUM_SAMPLES))\n",
    "rdd2 = rdd1.map(sample)\n",
    "count = rdd2.reduce(lambda x,y: x+y)\n",
    "approx = (4 * count) / NUM_SAMPLES\n",
    "error = approx - math.pi\n",
    "print(\"Approximation {}\".format(approx))\n",
    "print(\"Error {}\".format(error))"
   ]
  },
  {
   "cell_type": "code",
   "execution_count": null,
   "metadata": {},
   "outputs": [],
   "source": []
  }
 ],
 "metadata": {
  "kernelspec": {
   "display_name": "spark",
   "language": "python",
   "name": "spark"
  },
  "language_info": {
   "codemirror_mode": {
    "name": "ipython",
    "version": 3
   },
   "file_extension": ".py",
   "mimetype": "text/x-python",
   "name": "python",
   "nbconvert_exporter": "python",
   "pygments_lexer": "ipython3",
   "version": "3.7.6"
  }
 },
 "nbformat": 4,
 "nbformat_minor": 4
}
